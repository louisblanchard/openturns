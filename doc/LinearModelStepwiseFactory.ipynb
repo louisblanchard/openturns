{
 "cells": [
  {
   "cell_type": "markdown",
   "metadata": {},
   "source": [
    "STEPWISE METHODS\n",
    "-------------------------------"
   ]
  },
  {
   "cell_type": "markdown",
   "metadata": {
    "collapsed": true
   },
   "source": [
    "### Forward selection method "
   ]
  },
  {
   "cell_type": "markdown",
   "metadata": {},
   "source": [
    "Le principe de la sélection \"forward\" est d’ajouter, à chaque itération, le facteur qui\n",
    "maximise le critère. L’ensemble $S^*$ est initialisé avec l’ensemble minimal $S_0$ . A chaque étape de l’algorithme,\n",
    "l’ensemble $S^*$ est mis à jour par insertion d’une nouvelle variable i. A la fin de l’algorithme, l’ensemble $S^*$\n",
    "contient les variables qui font partie de la sélection"
   ]
  },
  {
   "cell_type": "markdown",
   "metadata": {
    "collapsed": true
   },
   "source": [
    "### Backward selection method "
   ]
  },
  {
   "cell_type": "markdown",
   "metadata": {},
   "source": [
    "Le principe de la sélection “backward” est d’enlever à chaque itération un facteur\n",
    "pour augmenter un des critères précédents. Le facteur retiré est celui qui maximise cette augmentation."
   ]
  },
  {
   "cell_type": "markdown",
   "metadata": {
    "collapsed": true
   },
   "source": [
    "### Both selection method "
   ]
  },
  {
   "cell_type": "markdown",
   "metadata": {},
   "source": [
    "Le principe de la sélection “both” est d’enlever ou de rajouter un facteur à chaque itération."
   ]
  },
  {
   "cell_type": "markdown",
   "metadata": {},
   "source": [
    "### Algorithme :"
   ]
  },
  {
   "cell_type": "markdown",
   "metadata": {},
   "source": [
    "0 : $\\text{Entrées : } S_{min}=\\color{blue}{\\text{minimalIndices }},  \n",
    "                       S_0=\\color{blue}{\\text{startIndices }},\n",
    "                       S_{max}$\n",
    "\n",
    "1 : $\\text{Sortie : }S^*$\n",
    "\n",
    "2 : $\\text{Initialisation : } S^* = S_0 \\quad, \\quad X = (x^k)_{k \\in S^*}  \\quad, \\quad n_{iter} = 0 $\n",
    "\n",
    "3 : $\\text{Initialisation of matrix containing all monomials: } \\color{blue}{\\text{maxX_}=  X_{max}}$\n",
    "\n",
    "4 : ${\\bf\\text{Tant que } n_{iter} < \\color{blue}{maxiter\\_} \\quad\\text{faire} :}$\n",
    "\n",
    "5 : $\\quad \\quad \\text{On estime } \\quad L^* = L_{S^*}\\hat{=} \\log L(\\hat{\\beta},\\hat{\\sigma}\\mid Y)$\n",
    "\n",
    "$\\quad\\quad \\quad  \\text{ avec }  \\color{blue}{\\text{ computeLogLikelihood()}} \n",
    "\\text{  qui calcule : }  \n",
    "\\color{blue}{\\text{currentGramInverse_} = (X^T X)^{-1}=A} \\quad,\\quad  \\color{blue}{\\text{currentB_} = X^T \\,Y=B}\n",
    "$\n",
    "\n",
    "6 : $\\quad\\quad  L^i = -\\infty \\quad,\\quad L^{i'} = -\\infty$ \n",
    "\n",
    "7 : $\\quad\\quad {\\bf\\text{Si}\\quad \\color{blue}{direction\\_ \\in \\big\\{\\,FORWARD\\,,\\,BOTH\\,\\big\\}} \\quad \\text{Faire} :}$\n",
    "\n",
    "8 : $\\quad\\quad\\quad\\quad$\n",
    "   $\\text{On calcule la matrice de taille} (n\\times p) :\\,\\, \\color{blue}{M = X \\,A }$ \n",
    "   $\\text{  et le vecteur de taille} (n) :\\,\\, \\color{blue}{\\hat{Y}= X\\,A \\,X^T\\,Y= M \\,B  }$ \n",
    "   \n",
    "9 : $\\quad\\quad\\quad\\quad$\n",
    "   $\\text{On estime }\\quad F_{i}=\\|\\,Y-H_+\\,Y\\,\\|_2  \\quad \n",
    "   \\text{ et } i = \\displaystyle\\arg \\max_{S_{max} \\backslash S^*}\\, F_{j}\n",
    "  \\quad \\text{ avec }\\color{blue}{\\text{ computeUpdateForward }(S_{max} \\backslash S^*,X, X_{max},\\hat{Y}-Y,M)}$\n",
    "  \n",
    "10 : $\\quad\\quad\\quad\\quad$\n",
    "   $  L^i = \\log L(\\hat{\\beta}_+,\\hat{\\sigma}_+\\mid Y) \\quad \\text{avec}\\quad n\\,\\hat{\\sigma}_+ = F_{i}  $\n",
    "\n",
    "11 : $\\quad\\quad$\n",
    "     ${\\bf\\text{Si}\\quad \\color{blue}{direction\\_ \\in \\big\\{\\,BACKWARD\\,,\\,BOTH\\,\\big\\}} \\quad \\text{Faire} :}$\n",
    "\n",
    "12 : $\\quad\\quad\\quad\\quad$\n",
    "   $\\text{On estime }\\quad F_{i'}=\\|\\,Y-H_{-}\\,Y\\,\\|_2  \\quad \n",
    "   \\text{ et } i' = \\displaystyle\\arg \\max_{S^*\\backslash S_{min}}\\, F_{j}\n",
    "  \\quad \\text{ avec }\\color{blue}{\\text{ computeUpdateBackward }(S^*\\backslash S_{min},X,A,B)}$\n",
    "     \n",
    "13 : $\\quad\\quad\\quad\\quad$\n",
    "   $  L^{i'} = \\log L(\\hat{\\beta}_{-},\\hat{\\sigma}_{-}\\mid Y) \\quad \\text{avec}\\quad n\\,\\hat{\\sigma}_{-} = F_{i'}  $\n",
    "\n",
    "14 : $\\quad\\quad$\n",
    "     ${\\bf\\text{Si}\\quad (L^i\\color{blue}{+\\,penalty\\_\\, \\# (S^*\\,\\cup \\, i)} > L^*\\color{blue}{+\\,penalty\\_\\, \\# S^*} ) \\quad \\text{ou} \\quad (L^{i'}\\color{blue}{+\\,penalty\\_\\, \\# (S^*\\,\\backslash \\, i)} > L^*\\color{blue}{+\\,penalty\\_\\, \\# S^*}) \\quad  \\text{Faire} :}$\n",
    "     \n",
    "14 : $\\quad\\quad$\n",
    "     ${\\bf\\text{Si}\\quad (L^i\\color{blue}{+\\,penalty\\_} > L^*) \\quad \\text{ou} \\quad (L^{i'}\\color{blue}{-\\,penalty\\_} > L^*) \\quad  \\text{Faire} :}$\n",
    "\n",
    "15 : $\\quad\\quad\\quad\\quad$\n",
    "     ${\\bf\\text{Si}\\quad (L^i\\color{blue}{+\\,penalty\\_}) > (L^{i'}\\color{blue}{-\\,penalty\\_})\\quad \\text{Faire} :}$\n",
    "    \n",
    "16 : $\\quad\\quad\\quad\\quad\\quad\\quad S^* =S^* \\,\\cup \\,  i $\n",
    "\n",
    "17 : $\\quad\\quad\\quad\\quad$\n",
    "     ${\\bf\\text{Sinon Faire} :}$\n",
    "         \n",
    "18 : $\\quad\\quad\\quad\\quad\\quad\\quad S^* =S^* \\,\\backslash \\,  i' $  \n",
    "\n",
    "19 : $\\quad \\quad \\quad\\quad X = (x^k)_{k \\in S^*} $\n",
    "     \n",
    "20 : $\\quad \\quad{\\bf\\text{ Sinon Faire :}}$\n",
    "\n",
    "21 : $\\quad \\quad \\quad \\quad \\text{Quitter}$\n",
    "\n",
    "24 : $\\quad \\quad n_{iter} = n_{iter} + 1$\n",
    "\n",
    "25 : On appele $\\color{blue}{\\text{ computeLogLikelihood()}}$ qui calcule : \n",
    "$\\color{blue}{\\text{currentGramInverse_} = (X^T X)^{-1}=A} \\quad,\\quad  \\color{blue}{\\text{currentB_} = X^T \\,Y=B}$\n",
    "\n",
    "25 : On calcule $\\quad\\hat{\\beta}= \\color{blue}{A\\,B}$ , $\\hat{Y}=X\\,\\hat{\\beta}$ , \n",
    "$\\hat{\\varepsilon}=Y-\\hat{Y}$ , \n",
    "$\\hat{\\sigma}^2 = \\frac{1}{n} \\,\\hat{\\varepsilon}^T\\,\\hat{\\varepsilon}$ , \n",
    "$H_{i,i} = x_i^T\\,A\\,x_i$\n",
    "\n",
    "26 : On construit un ${\\bf\\text{ LinearModelResult}}$ qui contient $(X,Y,\\hat{\\varepsilon})$.\n",
    "\n"
   ]
  },
  {
   "cell_type": "markdown",
   "metadata": {},
   "source": [
    "##  Fonction : computeLogLikeLihood \n",
    "\n",
    "On définit $A$ la matrice de taille $(p\\times p)$ par :\n",
    "$$A \\hat{=}(X^T X)^{-1} $$ \n",
    "\n",
    "On définit $H$ la matrice de projection de taille $(n\\times n)$ par :\n",
    "$$H \\hat{=} X_{}\\,\\big(X^T_{} \\,X_{}\\big)^{-1} \\,X^T_{}  =  X_{}\\,A \\,X^T_{} $$ \n",
    "La fonction log-vraisemblance est donnée par :"
   ]
  },
  {
   "cell_type": "markdown",
   "metadata": {},
   "source": [
    "$$\\log L(\\beta,\\sigma\\mid Y)= -\\frac{n}{2}\\big(\\log(2\\pi)+ \\log(\\sigma^2)\\big)- \\frac{1}{\\sigma^2}\\big(Y-X\\beta\\big)^T\\,\\big(Y-X\\beta\\big)$$"
   ]
  },
  {
   "cell_type": "markdown",
   "metadata": {},
   "source": [
    "####  Le maximum de la fonction LogLikeLihood est  :\n",
    "$$\\boxed{\\log L(\\hat{\\beta},\\hat{\\sigma}\\mid Y)=-\\frac{n}{2}\\big(\\log(2\\pi)+ \\log(\\hat{\\sigma}^2)+1\\big) }\n",
    "\\quad \\text{avec} \\quad \n",
    "\\boxed{ \\hat{\\sigma}^2 = \\frac{1}{n}\\big(Y-H\\,Y\\big)^T\\,\\big(Y-H\\,Y \\big)=\\frac{1}{n}\\|\\,Y-H\\,Y\\,\\|_2}\n",
    "$$"
   ]
  },
  {
   "cell_type": "markdown",
   "metadata": {},
   "source": [
    "## Fonction : computeLogLikelihoodForward\n",
    "\n",
    "\n",
    "On définit $X_+$ la matrice $X$ augmentée de la colonne $x_+$ à ajouter de taille $(n \\times p+1)$ par :\n",
    "$$X_+ = (X \\,,\\,x_+)$$ \n",
    "\n",
    "On définit $H$ la matrice de projection de taille $(n\\times n)$ par :\n",
    "$$H_+\\, \\,\\hat{=}\\, X_{+}\\,\\big(X^T_{+} \\,X_{+}\\big)^{-1} \\,X^T_{+} $$ \n",
    "\n",
    "La fonction log-vraisemblance pour la sélection “forward”  donne:"
   ]
  },
  {
   "cell_type": "markdown",
   "metadata": {},
   "source": [
    "$$\\boxed{\\log L(\\hat{\\beta}_+,\\hat{\\sigma}_+\\mid Y) =-\\frac{n}{2}\\big(\\log(2\\pi)+ \\log(\\hat{\\sigma}_+^2)+1\\big)}  \n",
    "\\quad \\text{avec} \\quad  \n",
    "\\boxed{\\hat{\\sigma}_+^2  = \\frac{1}{n}\\big(Y-H_+\\,Y\\big)^T\\,\\big(Y-H_+\\,Y \\big) =\\frac{1}{n}\\|\\,Y-H_+\\,Y\\,\\|_2} $$"
   ]
  },
  {
   "cell_type": "markdown",
   "metadata": {},
   "source": [
    "### calcul du vecteur de taille $(n)$  : $ H_{+}\\,Y$ :"
   ]
  },
  {
   "cell_type": "markdown",
   "metadata": {},
   "source": [
    "On définit $C$ la matrice de taille $(1 \\times 1)$ par :\n",
    "$$C= x_+^T x_+ -x_+^T \\,X\\,A \\, X^T\\, x_+ $$\n",
    "\n",
    "Le calcul de de la matrice projection $(n\\times n)\\,:\\,$ $H_+$ est donné par :\n",
    "$$H_{+} \\,\\hat{=}\\, X_{+}\\,\\big(X^T_{+} \\,X_{+}\\big)^{-1} \\,X^T_{+}  = \n",
    " X\\,A \\, X^T  + \\frac{X\\,A \\, X^T\\,x_+\\,(X\\,A \\, X^T\\,x_+)^T}{C} - \\frac{X\\,A \\, X^T\\,x_+\\,x_+^T}{C} - \\frac{x_+\\,x_+^T \\, X\\,A \\, X^T}{C} + \\frac{x_+\\,x_+^T}{C}  $$\n"
   ]
  },
  {
   "cell_type": "markdown",
   "metadata": {},
   "source": [
    "$$H_{+}=  X\\,A \\, X^T + \\frac{1}{(x_+^T x_+ -x_+^T \\,X\\,A \\, X^T\\, x_+)} \\big(\\,X\\,A \\, X^T\\,x_+\\,x_+^T\\,X\\,A \\, X^T \\,-\\,X\\,A \\, X^T\\,x_+\\,x_+^T \\,-\\,x_+\\,x_+^T \\, X\\,A \\, X^T\\,+\\,x_+\\,x_+^T \\,\\big) $$"
   ]
  },
  {
   "cell_type": "markdown",
   "metadata": {},
   "source": [
    "D'après la formultion précédente de $H_+$ on obtient : \n",
    "\n",
    "$$ \\boxed{H_{+}\\,Y = X\\,A \\, X^T\\,Y +\\frac{1}{(x_+^T x_+ -x_+^T \\,X\\,A \\, X^T\\, x_+)}\n",
    "\\big(\\,X\\,A \\, X^T\\,x_+\\,(x_+^T\\,X\\,A \\, X^T\\,Y) \\,-\\,X\\,A \\, X^T\\,x_+\\,(x_+^T\\,Y) \\,-\\,x_+\\,(x_+^T \\, X\\,A \\, X^T\\,Y)\\,+\\,x_+\\,(x_+^T\\,Y) \\,\\big)}$$"
   ]
  },
  {
   "cell_type": "markdown",
   "metadata": {},
   "source": [
    "## Algorithme :  computeLogLikelihoodForward \n",
    "\n",
    "on calcule la matrice de taille $(n\\times p):\\,M= X\\,A $ \n",
    "\n",
    "on calcule le vecteur de taille $(p) : \\, B=X^T\\,Y $\n",
    "\n",
    "on calcule le vecteur de taille $(n)$ : $\\,\\hat{Y}= X\\,A \\,X^T\\,Y= M \\,B  $  \n",
    "\n",
    "${\\bf\\text{Pour } j \\in S_{max} \\backslash S^*  \\quad \\text{Faire} :}$\n",
    "\n",
    "$\\quad\\quad \\text{on calcule le vecteur de taille } (p):  b_+=X^T\\,x_+ $\n",
    "\n",
    "$\\quad\\quad \\text{on calcule le vecteur de taille } (n):  d_+=M\\,b_+ $\n",
    "\n",
    "$ \\quad\\quad \\text{on calcule le vecteur de taille } (n):  \\boxed{ H_{+}\\,Y = \\hat{Y} +\\frac{x_+^T\\,(Y -\\hat{Y})}{x_+^T\\,(x_+ -d_+)} \\big(x_+ -d_+\\big) }$"
   ]
  },
  {
   "cell_type": "markdown",
   "metadata": {},
   "source": [
    "## Fonction : computeLogLikelihoodBackward\n",
    "\n",
    "On définit $X_{-i}$ la matrice $X$ sans la colonne $i$ de taille $(n \\times p-1)$.\n",
    "\n",
    "On définit $H_{-}$ la matrice de projection de taille $(n\\times n)$ par :\n",
    "$$H_{-}\\, \\,\\hat{=}\\, X_{-i}\\,\\big(X^T_{-i} \\,X_{-i}\\big)^{-1} \\,X^T_{-i} $$\n",
    "\n",
    "La fonction log-vraisemblance pour la sélection “backward”  donne:"
   ]
  },
  {
   "cell_type": "markdown",
   "metadata": {},
   "source": [
    "$$\\boxed{\\log L(\\hat{\\beta}_{-},\\hat{\\sigma}_{-}\\mid Y) =-\\frac{n}{2}\\big(\\log(2\\pi)+ \\log(\\hat{\\sigma}_{-}^2)+1\\big)}\n",
    "\\quad \\text{avec} \\quad \n",
    "\\boxed{ \\hat{\\sigma}_{-}^2 = \\frac{1}{n}\\big(Y-H_{-}\\,Y\\big)^T\\,\\big(Y-H_{-}\\,Y \\big)=\\frac{1}{n}\\|\\,Y-H_{-}\\,Y\\,\\|_2 }$$ "
   ]
  },
  {
   "cell_type": "markdown",
   "metadata": {},
   "source": [
    "### calcul du vecteur de taille $(n)$: $ H_{-}\\,Y$ :"
   ]
  },
  {
   "cell_type": "markdown",
   "metadata": {},
   "source": [
    "Le calcul de de la matrice projection $(n\\times n)\\,:\\,$ $H_{-}$ est donné par :\n",
    "$$H_{-} \\,\\hat{=}\\, X_{-i}\\,(X^T_{-i} \\,X_{-i})^{-1} \\,X^T_{-i}  = X_{-i}\\,A_{-i,-i} \\, X^T_{-i} \\,-\\,\\frac {1}{A_{i,i}}\\,\\big(X_{-i}\\, A_{-i,i}\\big)\\, \\big(X_{-i}\\, A_{-i,i}\\big)^T $$\n",
    "\n",
    "\n",
    "où $A_{-i,-i}$ est la matrice $A$ sans la ligne $i$ ni la colonne $i$, $A_{-i,i}$ est la matrice $A$ sans la ligne $i$ et avec seulement la colonne $i$ et $A_{i,i}$ est le terme $i$ de la diagonale de $A$."
   ]
  },
  {
   "cell_type": "markdown",
   "metadata": {},
   "source": [
    "##### deuxième formulation\n",
    "\n",
    "Afin de ne pas recréer une matrice $A_{-i }= (X^T_{-i} \\,X_{-i})^{-1}$ de taille $p-1 \\times p-1$,\n",
    "on écrit les formules en gardant la matrice $A$ mais en mettant des $0$ sur les lignes ou colonnes. \n",
    "Soit $X_{i=0}$ la matrice $X$ avec la colonne $i$ mise à $0$, et $A_{,i}$ la colonne $i$ de la matrice $A$, on obtient :\n",
    "$$H_{-} \\,\\hat{=}\\,X_{i=0}\\,A\\,X_{i=0}^T \\,-\\,\\frac {1}{A_{i,i}}\\,  \\big(X_{i=0}\\,A_{,i}\\big) \\big(X_{i=0}\\,A_{,i}\\big)^T   $$\n"
   ]
  },
  {
   "cell_type": "markdown",
   "metadata": {},
   "source": [
    "D'après la formultion précédente de $H_{-}$ on obtient : \n",
    "\n",
    "$$ H_{-}\\,Y = \n",
    "\\,X_{i=0}\\,A\\,X_{i=0}^T\\,Y \\,-\\,\\frac {1}{A_{i,i}}\\,  \\big(X_{i=0}\\,A_{,i}\\,(A_{i,} X_{i=0}^T\\,Y)\\,\\big)  $$\n",
    "\n",
    "$\\forall B \\in \\mathbb{R}^p$ on note $\\big[B\\big]_{i=0}$  le vecteur $B$ de taille $p$ avec la ligne $i$ mise à $0$. \n",
    "Avec cette notation, on obtient : \n",
    "\n",
    "$$\n",
    "\\forall b \\in \\mathbb{R}^n\\,,\\, \\forall c \\in \\mathbb{R}^p  \\quad\\text{alors}\\quad \n",
    "X_{i=0}^T\\,b \\,=\\,\\big[X^T\\,b\\big]_{i=0} \\quad,\\quad X_{i=0}\\,c \\,=\\,X\\,\\big[c\\big]_{i=0}\n",
    "$$\n",
    "Soit \n",
    "$$ H_{-}\\,Y \\,= \n",
    "\\,X\\,\\big[\\,A\\,\\big[X^T\\,Y\\big]_{i=0}\\,\\big]_{i=0} \\,-\\,\\frac {1}{A_{i,i}}\\,  \\big( X\\,\\big[\\,A_{,i}\\,\\big]_{i=0}\\,\\,(A_{i,} \\,\\big[X^T\\,Y\\big]_{i=0})\\,\\big)  \n",
    "= \\,X\\,\\big[\\,A\\,\\big[X^T\\,Y\\big]_{i=0}\\, -\\,\\frac {A_{i,} \\,\\big[X^T\\,Y\\big]_{i=0}}{A_{i,i}}\\,A_{,i}\\,      \\big]_{i=0} \n",
    "$$\n",
    "\n",
    "De plus on remarque que : \n",
    "$$ \\big(\\,A\\,\\big[X^T\\,Y\\big]_{i=0}\\, -\\,\\frac {A_{i,} \\,\\big[X^T\\,Y\\big]_{i=0}}{A_{i,i}}\\,A_{,i}\\,\\big)_i\n",
    "= A_{i,}\\,\\big[X^T\\,Y\\big]_{i=0}\\, -\\,\\frac {A_{i,} \\,\\big[X^T\\,Y\\big]_{i=0}}{A_{i,i}}\\,A_{i,i} = 0\n",
    "$$\n",
    "On obtient donc : \n",
    "$$\\boxed{ H_{-}\\,Y \\,=\\,X\\,\\big(\\,A\\,\\big[X^T\\,Y\\big]_{i=0}\\, -\\,\\frac {A_{i,} \\,\\big[X^T\\,Y\\big]_{i=0}}{A_{i,i}}\\,A_{,i}\\,\\big) \\,\\,}\n",
    "$$"
   ]
  },
  {
   "cell_type": "markdown",
   "metadata": {},
   "source": [
    "## Algorithme : computeLogLikelihoodBackward \n",
    "\n",
    "on calcule le vecteur de taille $(p) : \\, B=X^T\\,Y $.\n",
    "\n",
    "${\\bf\\text{Pour } j \\in S^*\\backslash S_{min} \\quad \\text{Faire} :}$\n",
    "\n",
    "$\\quad\\quad \\text{on calcule le vecteur de taille } (p):  e_{j} =\\,A\\,\\big[B\\big]_{j=0} \\,$\n",
    "\n",
    "$ \\quad\\quad \\text{on calcule le vecteur de taille } (n):  \\boxed{ H_{-}\\,Y \n",
    "\\,=\\, \\,X\\,  \\big(\\,e_{j} \\,-\\,\\frac {{(e_{j}})_j}{A_{j,j}}\\,A_{,j}\\,\\big)\\,\\,   }$"
   ]
  },
  {
   "cell_type": "markdown",
   "metadata": {},
   "source": [
    "# Diagramme  de classe :  LinearModelStepwiseFactory"
   ]
  },
  {
   "cell_type": "code",
   "execution_count": 1,
   "metadata": {
    "collapsed": false
   },
   "outputs": [
    {
     "data": {
      "image/png": "[encoded data removed]",
      "text/plain": [
       "<IPython.core.display.Image object>"
      ]
     },
     "execution_count": 1,
     "metadata": {},
     "output_type": "execute_result"
    }
   ],
   "source": [
    "from IPython.display import Image\n",
    "Image(filename='LinearModelStepwiseFactory.png')"
   ]
  }
 ],
 "metadata": {
  "anaconda-cloud": {},
  "hide_input": false,
  "kernelspec": {
   "display_name": "Python [Root]",
   "language": "python",
   "name": "Python [Root]"
  },
  "language_info": {
   "codemirror_mode": {
    "name": "ipython",
    "version": 2
   },
   "file_extension": ".py",
   "mimetype": "text/x-python",
   "name": "python",
   "nbconvert_exporter": "python",
   "pygments_lexer": "ipython2",
   "version": "2.7.12"
  },
  "toc": {
   "toc_cell": true,
   "toc_number_sections": true,
   "toc_section_display": "block",
   "toc_threshold": 4,
   "toc_window_display": true
  },
  "toc_position": {
   "left": "1618px",
   "right": "2px",
   "top": "911px",
   "width": "300px"
  }
 },
 "nbformat": 4,
 "nbformat_minor": 0
}
