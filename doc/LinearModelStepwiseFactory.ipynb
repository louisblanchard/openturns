{
 "cells": [
  {
   "cell_type": "markdown",
   "metadata": {},
   "source": [
    "STEPWISE METHODS\n",
    "-------------------------------"
   ]
  },
  {
   "cell_type": "markdown",
   "metadata": {
    "collapsed": true
   },
   "source": [
    "### Forward selection method "
   ]
  },
  {
   "cell_type": "markdown",
   "metadata": {},
   "source": [
    "Le principe de la sélection \"forward\" est d’ajouter, à chaque itération, le facteur qui\n",
    "maximise le critère. L’ensemble $S^*$ est initialisé avec l’ensemble minimal $S_0$ . A chaque étape de l’algorithme,\n",
    "l’ensemble $S^*$ est mis à jour par insertion d’une nouvelle variable i. A la fin de l’algorithme, l’ensemble $S^*$\n",
    "contient les variables qui font partie de la sélection"
   ]
  },
  {
   "cell_type": "code",
   "execution_count": null,
   "metadata": {
    "collapsed": true
   },
   "outputs": [],
   "source": [
    "#/* Build a linear model using stepwise regression with \"forward\" search method */\n",
    "LinearModelResult LinearModelStepwiseFactory::buildForward(const Indices & minimalIndices,\n",
    "                                                           const NumericalScalar k,\n",
    "                                                           const UnsignedInteger itermax)\n",
    "{\n",
    "  return build(minimalIndices, minimalIndices, true, false, k, itermax);\n",
    "}"
   ]
  },
  {
   "cell_type": "markdown",
   "metadata": {
    "collapsed": true
   },
   "source": [
    "### Backward selection method "
   ]
  },
  {
   "cell_type": "markdown",
   "metadata": {},
   "source": [
    "Le principe de la sélection “backward” est d’enlever à chaque itération un facteur\n",
    "pour augmenter un des critères précédents. Le facteur retiré est celui qui maximise cette augmentation."
   ]
  },
  {
   "cell_type": "code",
   "execution_count": null,
   "metadata": {
    "collapsed": true
   },
   "outputs": [],
   "source": [
    "#/* Build a linear model using stepwise regression with \"backward\" search method */\n",
    "LinearModelResult LinearModelStepwiseFactory::buildBackward(const Indices & minimalIndices,\n",
    "                                                            const NumericalScalar k,\n",
    "                                                            const UnsignedInteger itermax)\n",
    "{\n",
    "  Indices startIndices(monomials_.getSize());\n",
    "  startIndices.fill();\n",
    "  return build(minimalIndices, startIndices, false, true, k, itermax);\n",
    "}"
   ]
  },
  {
   "cell_type": "markdown",
   "metadata": {
    "collapsed": true
   },
   "source": [
    "### Both selection method "
   ]
  },
  {
   "cell_type": "markdown",
   "metadata": {},
   "source": [
    "Le principe de la sélection “both” est d’enlever ou de rajouter un facteur à chaque itération."
   ]
  },
  {
   "cell_type": "code",
   "execution_count": null,
   "metadata": {
    "collapsed": true
   },
   "outputs": [],
   "source": [
    "#/* Build a linear model using stepwise regression with \"both\" search method */\n",
    "LinearModelResult LinearModelStepwiseFactory::buildBoth(const Indices & minimalIndices,\n",
    "                                                        const Indices & startIndices,\n",
    "                                                        const NumericalScalar k,\n",
    "                                                        const UnsignedInteger itermax)\n",
    "{\n",
    "  return build(minimalIndices, startIndices, true, true, k, itermax);\n",
    "}\n"
   ]
  },
  {
   "cell_type": "markdown",
   "metadata": {
    "collapsed": true
   },
   "source": [
    "### Build method "
   ]
  },
  {
   "cell_type": "code",
   "execution_count": null,
   "metadata": {
    "collapsed": true
   },
   "outputs": [],
   "source": [
    "#/* Build a linear model using stepwise regression */\n",
    "LinearModelResult LinearModelStepwiseFactory::build(const Indices & minimalIndices,\n",
    "                                                    const Indices & startIndices,\n",
    "                                                    const Bool forward,\n",
    "                                                    const Bool backward,\n",
    "                                                    const NumericalScalar k,\n",
    "                                                    const UnsignedInteger itermax)\n",
    "{\n",
    "  #/* k : the multiple of the degrees of freedom used for the penality\n",
    "  #      - k=2      Akaike   information criterion (AIC)\n",
    "  #      - k=log(n) Bayesian information criterion (BIC)  */\n",
    "  throw NotYetImplementedException(HERE);\n",
    "}"
   ]
  },
  {
   "cell_type": "markdown",
   "metadata": {},
   "source": [
    "0 : $\\text{Entrées : } S_{min}=\\color{blue}{\\text{minimalIndices }},  \n",
    "                       S_0=\\color{blue}{\\text{startIndices }},\n",
    "                       S_{max}$\n",
    "\n",
    "1 : $\\text{Sortie : }S^∗$\n",
    "\n",
    "2 : $\\text{Initialisation : } S^∗ = S_0 \\quad, \\quad n_{iter} = 0$\n",
    "\n",
    "3 : ${\\bf\\text{Tant que } n_{iter} < \\color{blue}{itermax} \\quad\\text{faire} :}$\n",
    "\n",
    "4 : $ \\quad \\quad  X = (x^k)_{k \\in S^*} $\n",
    "\n",
    "5 : $\\quad \\quad \\color{blue}{\\text{currentGramInverse_} = (X^T X)^{-1}} \\quad,\\quad  \\color{blue}{\\text{currentB_} =  (X^T X)^{-1} X^T} $\n",
    "\n",
    "6 : $\\quad \\quad \\text{On estime } \\quad L^∗ = L_{S^∗}$\n",
    "$\\hat{=} \\log L(\\hat{\\beta},\\hat{\\sigma}\\mid Y) \\quad \\text{ avec }  \\color{blue}{\\text{ computeLogLikelihood()}}\n",
    "$\n",
    "\n",
    "7 : $\\quad\\quad L^i = -\\infty \\quad,\\quad L^{i'} = -\\infty $\n",
    "\n",
    "8: $\\quad\\quad {\\bf\\text{Si}\\quad \\color{blue}{forward} \\quad \\text{Faire} :}$\n",
    "\n",
    "9: $\\quad\\quad\\quad\\quad$\n",
    "   ${\\bf\\text{Pour } j \\in S_{max} \\backslash S^*  \\quad \\text{Faire} :}$\n",
    "\n",
    "10 : $\\quad \\quad \\quad \\quad \\quad \\quad \\text{On estime }\\quad L_{S^* \\,\\cup \\, j}$\n",
    "$\\hat{=} \\log L(\\hat{\\beta}_+,\\hat{\\sigma}_+\\mid Y)\\quad \\text{ avec }  \\color{blue}{\\text{ computeLogLikelihoodForward(j)}}$\n",
    "\n",
    "11 : $\\quad\\quad\\quad\\quad\\quad\\quad$\n",
    "     $L^i = \\max(L^i , L_{S^∗ \\,\\cup \\,  j})$\n",
    "\n",
    "12 : $\\quad\\quad$\n",
    "     ${\\bf\\text{Si}\\quad \\color{blue}{backward} \\quad \\text{Faire} :}$\n",
    "\n",
    "13 : $\\quad\\quad\\quad\\quad$\n",
    "     ${\\bf\\text{Pour } j \\in S^*\\backslash S_{min} \\quad \\text{Faire} :}$\n",
    "\n",
    "14 : $\\quad \\quad \\quad \\quad \\quad \\quad \\text{On estime }\\quad L_{S^* \\,\\backslash\\, j}$\n",
    "$\\hat{=} \\log L(\\hat{\\beta}_{-j},\\hat{\\sigma}_{-j}\\mid Y)\n",
    "\\quad \\text{ avec }  \\color{blue}{\\text{ computeLogLikelihoodBackward(j)}}$\n",
    "\n",
    "15 : $\\quad\\quad\\quad\\quad\\quad\\quad$\n",
    "     $L^{i'} = \\max(L^{i'}, L_{S^∗ \\,\\backslash \\,  j})$\n",
    "\n",
    "16 : $\\quad\\quad$\n",
    "     ${\\bf\\text{Si}\\quad (L^i\\color{blue}{+k\\, \\# (S^∗\\,\\cup \\, i)} > L^∗\\color{blue}{+k\\, \\# S^∗} ) \\quad \\text{ou} \\quad (L^{i'}\\color{blue}{+k\\, \\# (S^∗\\,\\backslash \\, i)} > L^∗\\color{blue}{+k\\, \\# S^∗}) \\quad  \\text{Faire} :}$\n",
    "     \n",
    "16 : $\\quad\\quad$\n",
    "     ${\\bf\\text{Si}\\quad (L^i\\color{blue}{+k} > L^∗) \\quad \\text{ou} \\quad (L^{i'}\\color{blue}{-k} > L^∗) \\quad  \\text{Faire} :}$\n",
    "\n",
    "17 : $\\quad\\quad\\quad\\quad$\n",
    "     ${\\bf\\text{Si}\\quad (L^i\\color{blue}{+k}) > (L^{i'}\\color{blue}{-k})\\quad \\text{Faire} :}$\n",
    "    \n",
    "18 : $\\quad\\quad\\quad\\quad\\quad\\quad S^∗ =S^∗ \\,\\cup \\,  i$\n",
    "\n",
    "19 : $\\quad\\quad\\quad\\quad$\n",
    "     ${\\bf\\text{Sinon Faire} :}$\n",
    "         \n",
    "20 : $\\quad\\quad\\quad\\quad\\quad\\quad S^∗ =S^∗ \\,\\backslash \\,  i'$     \n",
    "     \n",
    "21 : $\\quad \\quad{\\bf\\text{ Sinon Faire :}}$\n",
    "\n",
    "22 : $\\quad \\quad \\quad \\quad \\text{Quitter}$\n",
    "\n",
    "23 : $\\quad \\quad n_{iter} = n_{iter} + 1$\n"
   ]
  },
  {
   "cell_type": "markdown",
   "metadata": {},
   "source": [
    "## LogLikeLihood function\n",
    "\n",
    "La fonction log-vraisemblance est donnée par :"
   ]
  },
  {
   "cell_type": "markdown",
   "metadata": {},
   "source": [
    "$$\\log L(\\beta,\\sigma\\mid Y)= -\\frac{n}{2}\\big(\\log(2\\pi)+ \\log(\\sigma^2)\\big)- \\frac{1}{\\sigma^2}\\big(Y-X\\beta\\big)^T\\,\\big(Y-X\\beta\\big)$$"
   ]
  },
  {
   "cell_type": "markdown",
   "metadata": {},
   "source": [
    "Le maximum de la fonction log-vraisamblance est atteint pour :"
   ]
  },
  {
   "cell_type": "markdown",
   "metadata": {},
   "source": [
    " $$\\hat{\\beta}=(X^T X)^{-1} \\,X^T\\,Y \\quad,\\quad \\hat{\\sigma}^2 = \\frac{1}{n}\\big(Y-X\\hat{\\beta}\\big)^T\\,\\big(Y-X\\hat{\\beta}\\big)$$"
   ]
  },
  {
   "cell_type": "markdown",
   "metadata": {},
   "source": [
    "Pour ces valeurs on obtient alors :"
   ]
  },
  {
   "cell_type": "markdown",
   "metadata": {},
   "source": [
    "$$\\log L(\\hat{\\beta},\\hat{\\sigma}\\mid Y)= -\\frac{n}{2}\\big(\\log(2\\pi)+ \\log(\\hat{\\sigma}^2)\\big)- \\underbrace{\\frac{1}{\\hat{\\sigma}^2}\\big(Y-X\\hat{\\beta}\\big)^T\\,\\big(Y-X\\hat{\\beta}\\big)}_{\\frac{n}{2}}=-\\frac{n}{2}\\big(\\log(2\\pi)+ \\log(\\hat{\\sigma}^2)+1\\big) $$"
   ]
  },
  {
   "cell_type": "markdown",
   "metadata": {},
   "source": [
    "## computeLogLikelihoodForward\n",
    "\n",
    "Soit $x_+$ la colonne à ajouter et $X_+ = (X \\,,\\,x_+)$ la matrice $X$ augmentée d’une colonne et soit la matrice de projection :\n",
    "$$H_+\\, \\,\\hat{=}\\, X_{+}\\,\\big(X^T_{+} \\,X_{+}\\big)^{-1} \\,X^T_{+} $$\n",
    "La fonction log-vraisemblance pour la sélection “forward”  donne:"
   ]
  },
  {
   "cell_type": "markdown",
   "metadata": {},
   "source": [
    "$$\\boxed{\\log L(\\hat{\\beta}_+,\\hat{\\sigma}_+\\mid Y) =-\\frac{n}{2}\\big(\\log(2\\pi)+ \\log(\\hat{\\sigma}_+^2)+1\\big)} $$\n",
    "avec \n",
    "$$ \\boxed{\\hat{\\sigma}_+^2  = \\frac{1}{n}\\big(Y-H_+\\,Y\\big)^T\\,\\big(Y-H_+\\,Y \\big)} $$"
   ]
  },
  {
   "cell_type": "markdown",
   "metadata": {},
   "source": [
    "### calcul de la matrice projection $(n\\times n)$: $\\quad H_{+}$ :"
   ]
  },
  {
   "cell_type": "markdown",
   "metadata": {},
   "source": [
    "On définie $A$ la matrice de taille $(p+1\\times p+1)$ par :\n",
    "$$A \\hat{=}(X^T X)^{-1} $$ \n",
    "On définie $B$ la matrice de taille $(p+1 \\times n)$ par :\n",
    "$$ B=A\\,X^T $$\n",
    "On définie $D$ la matrice de taille $(p+1\\times 1)$ par :\n",
    "$$D=B\\,x_+  $$ \n",
    "On définie $C$ la matrice de taille $(1 \\times 1)$ par :\n",
    "$$C= x_+^T x_+ -x_+^T X D $$\n",
    "\n",
    "Le calcul de $H_+$ est donné par :\n",
    "$$\\boxed{H_{+} \\,\\hat{=}\\, X_{+}\\,\\big(X^T_{+} \\,X_{+}\\big)^{-1} \\,X^T_{+}  = \n",
    " X\\,\\big(A + \\frac{D\\,D^T}{C}\\big) \\,X^T - \\frac{X\\,D\\,x_+^T}{C} - \\frac{x_+\\,D^T\\,X^T}{C} + \\frac{x_+\\,x_+^T}{C}  }$$\n"
   ]
  },
  {
   "cell_type": "markdown",
   "metadata": {},
   "source": [
    "Le calcul de $H_+$ en fonction de la matrice $A$ est donné par :\n",
    "$$H_{+} = X\\,A \\, X^T  + \\frac{X\\,A \\, X^T\\,x_+\\,(X\\,A \\, X^T\\,x_+)^T}{C} - \\frac{X\\,A \\, X^T\\,x\\,x_+^T}{C} - \\frac{x_+\\,x_+^T \\, X\\,A \\, X^T}{C} + \\frac{x_+\\,x_+^T}{C}  $$\n",
    "Soit : \n",
    "$$\\boxed{H_{+}=  X\\,A \\, X^T + \\frac{1}{(x_+^T x_+ -x_+^T \\,X\\,A \\, X^T\\, x_+)} \\big(\\,X\\,A \\, X^T\\,x_+\\,x_+^T\\,X\\,A \\, X^T \\,-\\,X\\,A \\, X^T\\,x\\,x_+^T \\,-\\,x_+\\,x_+^T \\, X\\,A \\, X^T\\,+\\,x_+\\,x_+^T \\,\\big) }$$"
   ]
  },
  {
   "cell_type": "markdown",
   "metadata": {},
   "source": [
    "### calcul du vecteur de taille $(n)$  : $ H_{+}\\,Y$ :"
   ]
  },
  {
   "cell_type": "markdown",
   "metadata": {},
   "source": [
    "D'après la formultion précédente de $H_+$ on obtient : \n",
    "\n",
    "$$ H_{+}\\,Y = X\\,A \\, X^T\\,Y +\\frac{1}{(x_+^T x_+ -x_+^T \\,X\\,A \\, X^T\\, x_+)}\n",
    "\\big(\\,X\\,A \\, X^T\\,x_+\\,\\underbrace{x_+^T\\,X\\,A \\, X^T\\,Y}_{\\in \\mathbb{R}} \\,-\\,X\\,A \\, X^T\\,x_+\\,\\underbrace{x_+^T\\,Y}_{\\in \\mathbb{R}} \\,-\\,x_+\\,\\underbrace{x_+^T \\, X\\,A \\, X^T\\,Y}_{\\in \\mathbb{R}}\\,+\\,x_+\\,\\underbrace{x_+^T\\,Y}_{\\in \\mathbb{R}} \\,\\big)$$"
   ]
  },
  {
   "cell_type": "markdown",
   "metadata": {},
   "source": [
    "## Algorithm Forward\n",
    "\n",
    "on calcul la matrice de taille $(n\\times p):\\,M= X\\,A $ \n",
    "\n",
    "on calcul le vecteur de taille $(p) : \\, b=X^T\\,Y $\n",
    "\n",
    "on calcul le vecteur de taille $(n)$ : $\\,\\hat{Y}=M \\,b $  \n",
    "\n",
    "${\\bf\\text{Pour } j \\in S_{max} \\backslash S^*  \\quad \\text{Faire} :}$\n",
    "\n",
    "$\\quad\\quad \\text{on calcul le vecteur de taille } (p):  b_+=X^T\\,x_+ $\n",
    "\n",
    "$\\quad\\quad \\text{on calcul le vecteur de taille } (n):  d_+=M\\,b_+ $\n",
    "\n",
    "$ \\quad\\quad \\text{on calcul le vecteur de taille } (n):  \\boxed{ H_{+}\\,Y = \\hat{Y} +\\frac{x_+^T\\,(Y -\\hat{Y})}{x_+^T\\,(x_+ -d_+)} (x_+ -d_+) }$"
   ]
  },
  {
   "cell_type": "markdown",
   "metadata": {},
   "source": [
    "## computeLogLikelihoodBackward\n",
    "\n",
    "Soit $X_{−i}$ la matrice $X$ sans la colonne $i$ et soit la matrice de projection :\n",
    "$$H_{-i}\\, \\,\\hat{=}\\, X_{-i}\\,\\big(X^T_{-i} \\,X_{-i}\\big)^{-1} \\,X^T_{-i} $$\n",
    "La fonction log-vraisemblance pour la sélection “backward”  donne:"
   ]
  },
  {
   "cell_type": "markdown",
   "metadata": {},
   "source": [
    "$$\\boxed{\\log L(\\hat{\\beta}_{-i},\\hat{\\sigma}_{-i}\\mid Y) =-\\frac{n}{2}\\big(\\log(2\\pi)+ \\log(\\hat{\\sigma}_{-i}^2)+1\\big)} $$\n",
    "avec\n",
    "$$ \\boxed{ \\hat{\\sigma}_{-i}^2 = \\frac{1}{n}\\big(Y-H_{-i}\\,Y\\big)^T\\,\\big(Y-H_{-i}\\,Y \\big) }$$ "
   ]
  },
  {
   "cell_type": "markdown",
   "metadata": {},
   "source": [
    "### calcul de la matrice de projection $(n\\times n)$: $\\quad H_{-i}$ :"
   ]
  },
  {
   "cell_type": "markdown",
   "metadata": {},
   "source": [
    "Soit $A \\hat{=}(X^T X)^{-1} $ , le calcul de $H_{−i}$ est donné par :\n",
    "$$H_{−i} \\,\\hat{=}\\, X_{−i}\\,(X^T_{−i} \\,X_{−i})^{-1} \\,X^T_{−i}  = X_{−i}\\,A_{−i,-i} \\, X^T_{−i} \\,-\\,\\frac {1}{A_{i,i}}\\,\\big(X_{−i}\\, A_{−i,i}\\big)\\, \\big(X_{−i}\\, A_{−i,i}\\big)^T $$\n",
    "\n",
    "\n",
    "où $A_{−i,−i}$ est la matrice $A$ sans la ligne $i$ ni la colonne $i$, $A_{−i,i}$ est la matrice $A$ sans la ligne $i$ et avec seulement la colonne $i$ et $A_{i,i}$ est le terme $i$ de la diagonale de $A$."
   ]
  },
  {
   "cell_type": "markdown",
   "metadata": {},
   "source": [
    "Soit $X_{i=0}$ la matrice $X$ avec la colonne $i$ mise à $0$, et $A_{,i}$ la colonne $i$ de la matrice $A$, on obtient :\n",
    "$$\\boxed{H_{−i} \\,\\hat{=}\\,X_{i=0}\\,A\\,X_{i=0}^T \\,-\\,\\frac {1}{A_{i,i}}\\,  \\big(X_{i=0}\\,A_{,i}\\big) \\big(X_{i=0}\\,A_{,i}\\big)^T   }$$\n"
   ]
  },
  {
   "cell_type": "markdown",
   "metadata": {},
   "source": [
    "### calcul du vecteur de taille $(n)$: $ H_{-i}\\,Y$ :"
   ]
  },
  {
   "cell_type": "markdown",
   "metadata": {},
   "source": [
    "D'après la formultion précédente de $H_{-i}$ on obtient : \n",
    "\n",
    "$$ H_{-i}\\,Y = \n",
    "\\,X_{i=0}\\,A\\,\\underbrace{X_{i=0}^T\\,Y}_{\\in \\mathbb{R}^p} \\,-\\,\\frac {1}{A_{i,i}}\\,  \\big(X_{i=0}\\,A_{,i}\\,\\underbrace{A_{i,} X_{i=0}^T\\,Y}_{\\in \\mathbb{R}}\\,\\big)  $$\n",
    "\n",
    "Pour calculer $H_{-i}\\,Y$, on réalise $3$ produits matrice vecteur pour calculer :$X_{i=0}\\,A\\,X_{i=0}^T\\,Y$, un produit matrice vecteur $ X_{i=0}^T\\,Y$ et $X_{i=0}\\,A_{,i}$ et $1$ produit scalaire $A_{i,} X_{i=0}^T\\,Y$."
   ]
  },
  {
   "cell_type": "markdown",
   "metadata": {},
   "source": [
    "## Algorithm Backward\n",
    "\n",
    "on calcul le vecteur de taille $(p) : \\, b=X^T\\,Y $\n",
    "\n",
    "${\\bf\\text{Pour } j \\in S^*\\backslash S_{min} \\quad \\text{Faire} :}$\n",
    "\n",
    "$\\quad\\quad \\text{on calcul le vecteur de taille } (n):  d_i =X\\,A_{,i} $\n",
    "\n",
    "$ \\quad\\quad \\text{on calcul le vecteur de taille } (n):  \\boxed{ H_{-i}\\,Y = \\hat{Y} +\\frac{x_+^T\\,(Y -\\hat{Y})}{x_+^T\\,(x_+ -d_+)} (x_+ -d_+) }$"
   ]
  },
  {
   "cell_type": "code",
   "execution_count": 6,
   "metadata": {
    "collapsed": false
   },
   "outputs": [
    {
     "data": {
      "image/png": "[encoded data removed]",
      "text/plain": [
       "<IPython.core.display.Image object>"
      ]
     },
     "execution_count": 6,
     "metadata": {},
     "output_type": "execute_result"
    }
   ],
   "source": [
    "from IPython.display import Image\n",
    "Image(filename='LinearModelStepwiseFactory.png')"
   ]
  },
  {
   "cell_type": "code",
   "execution_count": null,
   "metadata": {
    "collapsed": true
   },
   "outputs": [],
   "source": []
  }
 ],
 "metadata": {
  "anaconda-cloud": {},
  "hide_input": false,
  "kernelspec": {
   "display_name": "Python [Root]",
   "language": "python",
   "name": "Python [Root]"
  },
  "language_info": {
   "codemirror_mode": {
    "name": "ipython",
    "version": 2
   },
   "file_extension": ".py",
   "mimetype": "text/x-python",
   "name": "python",
   "nbconvert_exporter": "python",
   "pygments_lexer": "ipython2",
   "version": "2.7.12"
  },
  "toc": {
   "toc_cell": true,
   "toc_number_sections": true,
   "toc_section_display": "block",
   "toc_threshold": 4,
   "toc_window_display": true
  },
  "toc_position": {
   "left": "1618px",
   "right": "2px",
   "top": "911px",
   "width": "300px"
  }
 },
 "nbformat": 4,
 "nbformat_minor": 0
}
