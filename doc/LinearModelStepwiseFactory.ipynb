{
 "cells": [
  {
   "cell_type": "markdown",
   "metadata": {},
   "source": [
    "STEPWISE METHODS\n",
    "-------------------------------"
   ]
  },
  {
   "cell_type": "markdown",
   "metadata": {
    "collapsed": true
   },
   "source": [
    "### Forward selection method "
   ]
  },
  {
   "cell_type": "markdown",
   "metadata": {},
   "source": [
    "Le principe de la sélection \"forward\" est d’ajouter, à chaque itération, le facteur qui\n",
    "maximise le critère. L’ensemble $S^*$ est initialisé avec l’ensemble minimal $S_0$ . A chaque étape de l’algorithme,\n",
    "l’ensemble $S^*$ est mis à jour par insertion d’une nouvelle variable i. A la fin de l’algorithme, l’ensemble $S^*$\n",
    "contient les variables qui font partie de la sélection"
   ]
  },
  {
   "cell_type": "code",
   "execution_count": null,
   "metadata": {
    "collapsed": true
   },
   "outputs": [],
   "source": [
    "#/* Build a linear model using stepwise regression with \"forward\" search method */\n",
    "LinearModelResult LinearModelStepwiseFactory::buildForward(const Indices & minimalIndices,\n",
    "                                                           const NumericalScalar k,\n",
    "                                                           const UnsignedInteger itermax)\n",
    "{\n",
    "  return build(minimalIndices, minimalIndices, true, false, k, itermax);\n",
    "}"
   ]
  },
  {
   "cell_type": "markdown",
   "metadata": {},
   "source": [
    "0 : $\\text{Entrées : } S_{max}$ , $S_0$ \n",
    "\n",
    "1 : $\\text{Sortie : }S^∗$\n",
    "\n",
    "2 : $\\text{Initialisation : } S^∗ = S_0 , n_{iter} = 0$\n",
    "\n",
    "3 : $\\text{On estime } Crit^∗ = Crit S_∗$\n",
    "\n",
    "4 : $\\text{Tant que } n_{iter} < M \\quad\\text{faire} :$\n",
    "\n",
    "5: $\\quad \\quad\\text{On calcule} :\\quad  i = \\arg \\displaystyle\\max_{j \\in  S_{max} \\backslash S^*} Ctrit_{S^* \\,\\cup \\, j} $\n",
    "\n",
    "6: $ \\quad \\quad\\text{On estime}\\quad  Crit_i = Crit_{S^∗ \\,\\cup \\,  i}$\n",
    "\n",
    "7: $\\quad \\quad\\text{Si}\\quad Crit_i > Crit^∗ \\quad \\text{Faire} :$\n",
    "\n",
    "8: $\\quad \\quad \\quad \\quad Crit^∗ = Crit_i$\n",
    "\n",
    "9: $\\quad \\quad \\quad \\quad S^∗ =S^∗ \\,\\cup \\,  i$\n",
    "\n",
    "10 : $\\quad \\quad\\text{Sinon Faire :}$\n",
    "\n",
    "11 : $\\quad \\quad \\quad \\quad \\text{Quitter}$\n",
    "\n",
    "12 :  $\\quad \\quad\\text{Fin Si}$\n",
    "\n",
    "13 : $\\quad \\quad n_{iter} = n_{iter} + 1$\n",
    "\n",
    "14 : $\\text{Fin Tant que}$ "
   ]
  },
  {
   "cell_type": "markdown",
   "metadata": {
    "collapsed": true
   },
   "source": [
    "### Backward selection method "
   ]
  },
  {
   "cell_type": "markdown",
   "metadata": {},
   "source": [
    "Le principe de la sélection “backward” est d’enlever à chaque itération un facteur\n",
    "pour augmenter un des critères précédents. Le facteur retiré est celui qui maximise cette augmentation."
   ]
  },
  {
   "cell_type": "code",
   "execution_count": null,
   "metadata": {
    "collapsed": true
   },
   "outputs": [],
   "source": [
    "#/* Build a linear model using stepwise regression with \"backward\" search method */\n",
    "LinearModelResult LinearModelStepwiseFactory::buildBackward(const Indices & minimalIndices,\n",
    "                                                            const NumericalScalar k,\n",
    "                                                            const UnsignedInteger itermax)\n",
    "{\n",
    "  Indices startIndices(monomials_.getSize());\n",
    "  startIndices.fill();\n",
    "  return build(minimalIndices, startIndices, false, true, k, itermax);\n",
    "}"
   ]
  },
  {
   "cell_type": "markdown",
   "metadata": {
    "collapsed": true
   },
   "source": [
    "### Both selection method "
   ]
  },
  {
   "cell_type": "markdown",
   "metadata": {},
   "source": [
    "Le principe de la sélection “both” est d’enlever ou de rajouter un facteur à chaque itération."
   ]
  },
  {
   "cell_type": "code",
   "execution_count": null,
   "metadata": {
    "collapsed": true
   },
   "outputs": [],
   "source": [
    "#/* Build a linear model using stepwise regression with \"both\" search method */\n",
    "LinearModelResult LinearModelStepwiseFactory::buildBoth(const Indices & minimalIndices,\n",
    "                                                        const Indices & startIndices,\n",
    "                                                        const NumericalScalar k,\n",
    "                                                        const UnsignedInteger itermax)\n",
    "{\n",
    "  return build(minimalIndices, startIndices, true, true, k, itermax);\n",
    "}\n"
   ]
  },
  {
   "cell_type": "markdown",
   "metadata": {
    "collapsed": true
   },
   "source": [
    "### Build method "
   ]
  },
  {
   "cell_type": "code",
   "execution_count": null,
   "metadata": {
    "collapsed": true
   },
   "outputs": [],
   "source": [
    "#/* Build a linear model using stepwise regression */\n",
    "LinearModelResult LinearModelStepwiseFactory::build(const Indices & minimalIndices,\n",
    "                                                    const Indices & startIndices,\n",
    "                                                    const Bool forward,\n",
    "                                                    const Bool backward,\n",
    "                                                    const NumericalScalar k,\n",
    "                                                    const UnsignedInteger itermax)\n",
    "{\n",
    "  #/* k : the multiple of the degrees of freedom used for the penality\n",
    "  #      - k=2      Akaike   information criterion (AIC)\n",
    "  #      - k=log(n) Bayesian information criterion (BIC)  */\n",
    "  throw NotYetImplementedException(HERE);\n",
    "}"
   ]
  },
  {
   "cell_type": "markdown",
   "metadata": {},
   "source": [
    "0 : $\\text{Entrées : } S_{min}=\\color{blue}{\\text{minimalIndices }}, \n",
    "                       S_{max}=\\color{blue}{\\text{getIndices() }} , \n",
    "                       S_0=\\color{blue}{\\text{startIndices }}$ \n",
    "\n",
    "1 : $\\text{Sortie : }S^∗$\n",
    "\n",
    "2 : $\\text{Initialisation : } S^∗ = S_0 , n_{iter} = 0$\n",
    "\n",
    "3 : ${\\bf\\text{Tant que } n_{iter} < \\color{blue}{itermax} \\quad\\text{faire} :}$\n",
    "\n",
    "$ \\quad \\quad \\quad \\color{blue}{\\text{currentGramInverse_} = (X^T X)^{-1}} $\n",
    "\n",
    "$ \\quad \\quad \\quad \\color{blue}{\\text{currentB_} =  (X^T X)^{-1} X^T} $\n",
    "\n",
    "4 : $\\quad \\quad \\text{On estime } \\quad Crit^∗ = Crit_{S^∗}$\n",
    "$\\color{blue}{\\hat{=} \\underbrace{\\log L(\\hat{\\beta},\\hat{\\sigma}\\mid Y)}_{computeLogLikelihood()} + k \\, \\# S^∗  }\n",
    "$\n",
    "\n",
    "   $\\quad\\quad\\quad$\n",
    "   $Crit^i = -\\infty \\quad,\\quad Crit^{i'} = -\\infty $\n",
    "\n",
    "5: $\\quad\\quad$\n",
    "   ${\\bf\\text{Si}\\quad \\color{blue}{forward} \\quad \\text{Faire} :}$\n",
    "\n",
    "6: $\\quad\\quad\\quad\\quad$\n",
    "   ${\\bf\\text{Pour } j \\in S_{max} \\backslash S^*  \\quad \\text{Faire} :}$\n",
    "\n",
    "7 : $\\quad \\quad \\quad \\quad \\quad \\quad \\text{On estime }\\quad Ctrit_{S^* \\,\\cup \\, j}$\n",
    "$\\color{blue}{\\hat{=} \\underbrace{\\log L(\\hat{\\beta}_+,\\hat{\\sigma}_+\\mid Y)}_{computeLogLikelihoodForward(j)} + k \\, \\# (S^∗\\,\\cup \\, j)  }\n",
    "$\n",
    "\n",
    "$\\quad\\quad\\quad\\quad\\quad\\quad\\quad$\n",
    "$Crit^i = \\max(Crit^i , Crit_{S^∗ \\,\\cup \\,  j})$\n",
    "\n",
    "8: $\\quad\\quad$\n",
    "   ${\\bf\\text{Si}\\quad \\color{blue}{backward} \\quad \\text{Faire} :}$\n",
    "\n",
    "9: $\\quad\\quad\\quad\\quad$\n",
    "   ${\\bf\\text{Pour } j \\in S^*\\backslash S_{min} \\quad \\text{Faire} :}$\n",
    "\n",
    "10 : $\\quad \\quad \\quad \\quad \\quad \\quad \\text{On estime }\\quad Ctrit_{S^* \\,\\backslash\\, j}$\n",
    "$\\color{blue}{\\hat{=} \\underbrace{\\log L(\\hat{\\beta}_{-j},\\hat{\\sigma}_{-j}\\mid Y)}_{computeLogLikelihoodBackward(j)} + k \\, \\# (S^∗\\,\\backslash \\, j)  }\n",
    "$\n",
    "\n",
    "$\\quad\\quad\\quad\\quad\\quad\\quad\\quad$\n",
    "$Crit^{i'} = \\max(Crit^{i'}, Crit_{S^∗ \\,\\backslash \\,  j})$\n",
    "\n",
    "11: $\\quad\\quad$\n",
    "   ${\\bf\\text{Si}\\quad Crit^i > Crit^∗ \\quad \\text{Faire} :}$\n",
    "\n",
    "\n",
    "12: $\\quad \\quad \\quad \\quad Crit^∗ = Crit_i$\n",
    "\n",
    "$\\quad \\quad \\quad \\quad \\quad S^∗ =S^∗ \\,\\cup \\,  i$\n",
    "\n",
    "13: $\\quad\\quad$\n",
    "   ${\\bf\\text{Si}\\quad Crit^{i'} > Crit^∗ \\quad \\text{Faire} :}$\n",
    "\n",
    "\n",
    "14: $\\quad \\quad \\quad \\quad Crit^∗ = Crit_{i'}$\n",
    "\n",
    "$\\quad \\quad \\quad \\quad \\quad S^∗ =S^∗ \\,\\backslash \\,  i'$\n",
    "\n",
    "\n",
    "15 : $\\quad \\quad{\\bf\\text{ Sinon Faire :}}$\n",
    "\n",
    "16 : $\\quad \\quad \\quad \\quad \\text{Quitter}$\n",
    "\n",
    "17 : $\\quad \\quad n_{iter} = n_{iter} + 1$\n"
   ]
  },
  {
   "cell_type": "code",
   "execution_count": null,
   "metadata": {
    "collapsed": true
   },
   "outputs": [],
   "source": [
    "private:\n",
    "\n",
    "#/** The input data  */\n",
    "  NumericalSample inputSample_;\n",
    "\n",
    "#/** The formula description */\n",
    "  String formula_;\n",
    "\n",
    "#/** The monomials collection */\n",
    "  Description monomials_;\n",
    "\n",
    "#/** The current matrix */\n",
    "  Matrix currentMatrix_;\n",
    "\n",
    "#/** The indices of current model */\n",
    "  Indices currentIndices_;\n",
    "\n",
    "#/** The function */\n",
    "  NumericalMathFunction func_;\n",
    "\n",
    "#/** penalization term */\n",
    "  NumericalScalar penality_;\n",
    "\n",
    "#/** The covariance matrix inverse: A=(X^T X)^-1 */\n",
    "  CovarianceMatrix currentGramInverse_;\n",
    "\n",
    "#/** The non-square matrix : B= A X^T   */\n",
    "  Matrix currentB_;"
   ]
  },
  {
   "cell_type": "code",
   "execution_count": 2,
   "metadata": {
    "collapsed": false
   },
   "outputs": [
    {
     "data": {
      "image/png": "[encoded data removed]",
      "text/plain": [
       "<IPython.core.display.Image object>"
      ]
     },
     "execution_count": 2,
     "metadata": {},
     "output_type": "execute_result"
    }
   ],
   "source": [
    "from IPython.display import Image\n",
    "Image(filename='LinearModelAlgorithm.png')"
   ]
  }
 ],
 "metadata": {
  "anaconda-cloud": {},
  "hide_input": false,
  "kernelspec": {
   "display_name": "Python [Root]",
   "language": "python",
   "name": "Python [Root]"
  },
  "language_info": {
   "codemirror_mode": {
    "name": "ipython",
    "version": 2
   },
   "file_extension": ".py",
   "mimetype": "text/x-python",
   "name": "python",
   "nbconvert_exporter": "python",
   "pygments_lexer": "ipython2",
   "version": "2.7.12"
  },
  "toc": {
   "toc_cell": true,
   "toc_number_sections": true,
   "toc_section_display": "block",
   "toc_threshold": 4,
   "toc_window_display": true
  },
  "toc_position": {
   "left": "1618px",
   "right": "2px",
   "top": "911px",
   "width": "300px"
  }
 },
 "nbformat": 4,
 "nbformat_minor": 0
}
