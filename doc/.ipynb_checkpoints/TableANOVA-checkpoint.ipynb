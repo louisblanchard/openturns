{
 "cells": [
  {
   "cell_type": "markdown",
   "metadata": {
    "collapsed": true
   },
   "source": [
    "Table ANOVA\n",
    "-------------------------------"
   ]
  },
  {
   "cell_type": "markdown",
   "metadata": {},
   "source": [
    "Les éléments devant être affichés dans la table ANOVA (cf. Section 3.4.3) sont tous présents dans Open-\n",
    "TURNS. Nous rappelons simplement que le nombre de dégrés de liberté est donné par n − (p + 1) est que\n",
    "pour le test de student pour le i ieme facteur, la quantité suivante est supposée être issue d’une loi de Student\n",
    "à n − p − 1 degrés de liberté (voir équations (4), (3), (7)) :"
   ]
  },
  {
   "cell_type": "markdown",
   "metadata": {},
   "source": [
    "$$\\frac{\\hat{\\beta}_i}{\\sqrt{\\frac{n}{n-p-1}\\,\\hat{\\sigma}^2\\,A_{i,i}  }}  $$"
   ]
  },
  {
   "cell_type": "markdown",
   "metadata": {},
   "source": [
    "### Calcul de $\\hat{\\beta}_i$\n",
    "\n",
    "Avec les notations on a : \n",
    "$$  \\quad \\hat{\\beta}_i = \\big[\\underbrace{\\big(X^T\\,X\\big)^{-1}}_{A}\\, \\underbrace{X^T\\,Y}_{b} \\big]_i  =\\big[A\\,b   \\big]_i  $$"
   ]
  },
  {
   "cell_type": "markdown",
   "metadata": {},
   "source": [
    "### Diagnostics graphiques"
   ]
  },
  {
   "cell_type": "markdown",
   "metadata": {},
   "source": [
    "Les résiduts des prédictions sont donnés par :\n",
    "$$ \\hat{\\varepsilon} = Y-\\hat{Y} = Y-H\\, Y$$\n",
    "Nous donnons ici les définitions des élements permettant de tracer les graphes présentés en Section 3.4.4.\n",
    "\n",
    "- En Figure 1, les résidus standardisés sont donnés par (voir équations (4), (9))\n",
    "\n",
    "$$\\forall i\\in [1,n]\\quad,\\quad\\varepsilon^i_{stand}=\\frac{\\hat{\\varepsilon}_i}{\\sqrt{\\frac{n}{n-p-1}\\,\\hat{\\sigma}^2\\,(1-H_{i,i})  }} $$\n",
    "et les valeurs prédites par l'équation (5)."
   ]
  },
  {
   "cell_type": "markdown",
   "metadata": {
    "collapsed": true
   },
   "source": [
    "- En Figure 2, la droite des quantiles-quantiles plot est faite sur les résidus standardisés $\\varepsilon^i_{stand}$  et en abscisses sont donnés les quantiles théoriques de la loi normale centrée réduite.\n",
    "\n",
    "- En Figure 3, les ordonnées sont donnés par  $\\sqrt{|\\varepsilon^i_{stand}|}$."
   ]
  },
  {
   "cell_type": "markdown",
   "metadata": {},
   "source": [
    "- En Figure 4, la distance de Cook d’une observation est donnée par (voir équations (4),(9)): \n",
    "$$\\forall i\\in [1,n]\\quad,\\quad D_i =\\frac{(\\hat{\\varepsilon}_i)^2}{\\frac{np}{n-p-1} \\hat{\\sigma}^2}\\Big[\\,\\frac{H_{i,i}}{(1-H_{i,i})^2}\\,\\Big]=\\frac{(\\varepsilon^i_{stand})^2}{p}\\Big[\\,\\frac{H_{i,i}}{1-H_{i,i}}\\,\\Big] $$\n"
   ]
  },
  {
   "cell_type": "markdown",
   "metadata": {},
   "source": [
    "- En Figure 5, le “leverage” est donné par :\n",
    " $$h_i = H_{i,i}$$\n",
    " \n",
    "De plus, les ordonnées sont données par les valeurs de . Enfin, le contour plot de la distance de\n",
    "Cook est donné par la fonction (où $(x,y)$ désignent l’abscisse et l’ordonnée du graphe) :\n",
    "\n",
    "$$\n",
    "D(x,y)= \\frac{y^2}{p}\\big(\\frac{x}{1-x}\\big)\n",
    "$$"
   ]
  },
  {
   "cell_type": "markdown",
   "metadata": {
    "collapsed": true
   },
   "source": [
    "- En Figure 6, les ordonnées sont données par les distances de Cook $(D_i)_{i=1,...,n}$ et les abscisses par\n",
    "$(\\frac{h_i}{(1 − h_i)})_{i=1,...,n}$. Enfin, les contours plots sont donnés par la fonction :\n",
    "\n",
    "$$\n",
    "\\varepsilon^2_{stand}(x,y)= \\frac{p\\,y}{x}\n",
    "$$"
   ]
  },
  {
   "cell_type": "code",
   "execution_count": null,
   "metadata": {
    "collapsed": true
   },
   "outputs": [],
   "source": []
  }
 ],
 "metadata": {
  "anaconda-cloud": {},
  "hide_input": false,
  "kernelspec": {
   "display_name": "Python [Root]",
   "language": "python",
   "name": "Python [Root]"
  },
  "language_info": {
   "codemirror_mode": {
    "name": "ipython",
    "version": 2
   },
   "file_extension": ".py",
   "mimetype": "text/x-python",
   "name": "python",
   "nbconvert_exporter": "python",
   "pygments_lexer": "ipython2",
   "version": "2.7.12"
  },
  "toc": {
   "toc_cell": true,
   "toc_number_sections": true,
   "toc_section_display": "block",
   "toc_threshold": 4,
   "toc_window_display": true
  },
  "toc_position": {
   "left": "1618px",
   "right": "2px",
   "top": "911px",
   "width": "300px"
  }
 },
 "nbformat": 4,
 "nbformat_minor": 0
}
